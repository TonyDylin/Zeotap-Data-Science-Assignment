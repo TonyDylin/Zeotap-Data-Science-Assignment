{
 "cells": [
  {
   "cell_type": "code",
   "execution_count": 1,
   "id": "b086e932-5fd4-4073-9793-1e5611ef2ab6",
   "metadata": {},
   "outputs": [],
   "source": [
    "# Import libraries\n",
    "import pandas as pd\n",
    "from sklearn.metrics.pairwise import cosine_similarity\n",
    "from sklearn.preprocessing import StandardScaler\n",
    "\n"
   ]
  },
  {
   "cell_type": "code",
   "execution_count": 2,
   "id": "40ca397b-b3e8-4688-9d42-6f8971d6f7c7",
   "metadata": {},
   "outputs": [],
   "source": [
    "# Load datasets\n",
    "customers = pd.read_csv(\"/Users/apple/Desktop/Internship/Customers.csv\")\n",
    "products = pd.read_csv(\"/Users/apple/Desktop/Internship/Products.csv\")\n",
    "transactions = pd.read_csv(\"/Users/apple/Desktop/Internship/Transactions.csv\")"
   ]
  },
  {
   "cell_type": "code",
   "execution_count": 3,
   "id": "9bf85519-3636-4d61-b410-a37ada238f47",
   "metadata": {},
   "outputs": [],
   "source": [
    "# Merge transactions with products and customers\n",
    "transactions_products = transactions.merge(products, on=\"ProductID\")\n",
    "merged_data = transactions_products.merge(customers, on=\"CustomerID\")"
   ]
  },
  {
   "cell_type": "code",
   "execution_count": 4,
   "id": "859276cc-ad5f-412c-8b56-cdc6d1aae527",
   "metadata": {},
   "outputs": [],
   "source": [
    "# Pivot table to create customer-product preferences\n",
    "customer_product_features = merged_data.pivot_table(\n",
    "    index=\"CustomerID\",\n",
    "    columns=\"ProductID\",\n",
    "    values=\"Quantity\",\n",
    "    aggfunc=\"sum\",\n",
    "    fill_value=0\n",
    ")"
   ]
  },
  {
   "cell_type": "code",
   "execution_count": 5,
   "id": "4c58f419-d066-41c9-936f-7cb20105e4c3",
   "metadata": {},
   "outputs": [],
   "source": [
    "# Normalize customer demographic data (e.g., Region)\n",
    "customer_profile = pd.get_dummies(customers.set_index(\"CustomerID\"), columns=[\"Region\"])\n"
   ]
  },
  {
   "cell_type": "code",
   "execution_count": 6,
   "id": "12fcfc3a-4e21-422c-b758-d1e78b038e23",
   "metadata": {},
   "outputs": [],
   "source": [
    "# Combine customer-product preferences with their profile\n",
    "final_features = customer_product_features.merge(customer_profile, on=\"CustomerID\")"
   ]
  },
  {
   "cell_type": "code",
   "execution_count": 7,
   "id": "336ec805-818b-4f28-b898-d04dbad9f165",
   "metadata": {},
   "outputs": [],
   "source": [
    "# Ensure only numeric columns are included\n",
    "numeric_features = final_features.select_dtypes(include=[\"number\"])\n"
   ]
  },
  {
   "cell_type": "code",
   "execution_count": 8,
   "id": "106e65c0-cbe7-4450-a9d1-364ba8ed15b9",
   "metadata": {},
   "outputs": [],
   "source": [
    "# Scale the data\n",
    "scaler = StandardScaler()\n",
    "scaled_features = scaler.fit_transform(numeric_features)\n"
   ]
  },
  {
   "cell_type": "code",
   "execution_count": 9,
   "id": "d833d432-5a14-4ff5-b798-d45125b4d111",
   "metadata": {},
   "outputs": [],
   "source": [
    "# Compute cosine similarity\n",
    "similarity_matrix = cosine_similarity(scaled_features)"
   ]
  },
  {
   "cell_type": "code",
   "execution_count": 10,
   "id": "d507f4fd-5796-4525-a77b-f508bfa62689",
   "metadata": {},
   "outputs": [],
   "source": [
    "# Convert similarity matrix to a DataFrame\n",
    "similarity_df = pd.DataFrame(\n",
    "    similarity_matrix,\n",
    "    index=final_features.index,\n",
    "    columns=final_features.index\n",
    ")"
   ]
  },
  {
   "cell_type": "code",
   "execution_count": 11,
   "id": "77db4937-1565-4308-9a49-cf39f87ac783",
   "metadata": {},
   "outputs": [],
   "source": [
    "# Function to generate top-N lookalikes for specific customers\n",
    "def get_top_lookalikes(similarity_df, target_customers, top_n=3):\n",
    "    lookalike_map = {}\n",
    "    for customer_id in target_customers:\n",
    "        if customer_id in similarity_df.index:\n",
    "            # Sort by similarity scores (descending) and exclude the customer itself\n",
    "            top_similar = similarity_df.loc[customer_id].sort_values(ascending=False).iloc[1:top_n + 1]\n",
    "            lookalike_map[customer_id] = [\n",
    "                {\"SimilarCustomerID\": sim_id, \"Score\": round(score, 3)}\n",
    "                for sim_id, score in top_similar.items()\n",
    "            ]\n",
    "        else:\n",
    "            # Handle missing customer IDs\n",
    "            lookalike_map[customer_id] = []\n",
    "    return lookalike_map"
   ]
  },
  {
   "cell_type": "code",
   "execution_count": 12,
   "id": "55817474-806d-4b1a-8c40-cfe6808be52b",
   "metadata": {},
   "outputs": [],
   "source": [
    "# Specify the first 20 customers (C0001 - C0020)\n",
    "target_customers = [f\"C{str(i).zfill(4)}\" for i in range(1, 21)]"
   ]
  },
  {
   "cell_type": "code",
   "execution_count": 13,
   "id": "6e4c457e-b015-4299-880b-ef804d32f901",
   "metadata": {},
   "outputs": [],
   "source": [
    "# Generate the lookalike map for the specific customers\n",
    "lookalike_map = get_top_lookalikes(similarity_df, target_customers)"
   ]
  },
  {
   "cell_type": "code",
   "execution_count": 14,
   "id": "197c914a-4f25-4f88-915b-23f85d164557",
   "metadata": {},
   "outputs": [],
   "source": [
    "# Convert the lookalike map to the required Map format\n",
    "lookalike_data = [\n",
    "    {\"CustomerID\": customer_id, \"Lookalikes\": lookalikes}\n",
    "    for customer_id, lookalikes in lookalike_map.items()\n",
    "]"
   ]
  },
  {
   "cell_type": "code",
   "execution_count": 15,
   "id": "df387b55-f360-41dd-a86a-eb09acb7cd2d",
   "metadata": {},
   "outputs": [],
   "source": [
    "# Save the results to a CSV file\n",
    "lookalike_df = pd.DataFrame(lookalike_data)\n",
    "lookalike_df.to_csv(\"TonyDylin_Marneni_Lookalike.csv\", index=False)"
   ]
  },
  {
   "cell_type": "code",
   "execution_count": 16,
   "id": "cbb98d55-fba5-4b21-a84e-b69a9af292ab",
   "metadata": {},
   "outputs": [
    {
     "name": "stdout",
     "output_type": "stream",
     "text": [
      "  CustomerID                                         Lookalikes\n",
      "0      C0001  [{'SimilarCustomerID': 'C0194', 'Score': 0.405...\n",
      "1      C0002  [{'SimilarCustomerID': 'C0030', 'Score': 0.405...\n",
      "2      C0003  [{'SimilarCustomerID': 'C0181', 'Score': 0.478...\n",
      "3      C0004  [{'SimilarCustomerID': 'C0070', 'Score': 0.352...\n",
      "4      C0005  [{'SimilarCustomerID': 'C0096', 'Score': 0.487...\n"
     ]
    }
   ],
   "source": [
    "# Display the lookalike DataFrame\n",
    "print(lookalike_df.head())"
   ]
  },
  {
   "cell_type": "code",
   "execution_count": null,
   "id": "d4ebe3a8-3d36-4933-bbfb-6b3d34cc8e1c",
   "metadata": {},
   "outputs": [],
   "source": []
  }
 ],
 "metadata": {
  "kernelspec": {
   "display_name": "Python 3 (ipykernel)",
   "language": "python",
   "name": "python3"
  },
  "language_info": {
   "codemirror_mode": {
    "name": "ipython",
    "version": 3
   },
   "file_extension": ".py",
   "mimetype": "text/x-python",
   "name": "python",
   "nbconvert_exporter": "python",
   "pygments_lexer": "ipython3",
   "version": "3.11.3"
  }
 },
 "nbformat": 4,
 "nbformat_minor": 5
}
